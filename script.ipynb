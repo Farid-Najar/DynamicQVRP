{
 "cells": [
  {
   "cell_type": "code",
   "execution_count": 17,
   "metadata": {},
   "outputs": [],
   "source": [
    "from methods import OA_SA\n",
    "from envs import DynamicQVRPEnv\n",
    "\n",
    "from gymnasium import spaces"
   ]
  },
  {
   "cell_type": "code",
   "execution_count": 21,
   "metadata": {},
   "outputs": [
    {
     "ename": "TypeError",
     "evalue": "Box.__init__() missing 2 required positional arguments: 'low' and 'high'",
     "output_type": "error",
     "traceback": [
      "\u001b[0;31m---------------------------------------------------------------------------\u001b[0m",
      "\u001b[0;31mTypeError\u001b[0m                                 Traceback (most recent call last)",
      "Cell \u001b[0;32mIn[21], line 1\u001b[0m\n\u001b[0;32m----> 1\u001b[0m \u001b[43mspaces\u001b[49m\u001b[38;5;241;43m.\u001b[39;49m\u001b[43mBox\u001b[49m\u001b[43m(\u001b[49m\u001b[43m)\u001b[49m\n",
      "\u001b[0;31mTypeError\u001b[0m: Box.__init__() missing 2 required positional arguments: 'low' and 'high'"
     ]
    }
   ],
   "source": [
    "spaces.Box()"
   ]
  },
  {
   "cell_type": "code",
   "execution_count": 3,
   "metadata": {},
   "outputs": [],
   "source": [
    "import numpy as np\n",
    "dests = np.load('data/destinations_K100.npy')\n",
    "D = np.load('data/distance_matrix.npy')"
   ]
  },
  {
   "cell_type": "code",
   "execution_count": 4,
   "metadata": {},
   "outputs": [
    {
     "data": {
      "text/plain": [
       "array([230.,  43., 453., 480., 345., 465., 305., 499., 448., 443., 458.,\n",
       "       436., 440., 227., 157., 447., 309., 132., 265., 466., 418., 335.,\n",
       "       243., 493., 411., 297., 317., 495., 467., 412., 299., 123., 256.,\n",
       "       346.,  20., 225., 319., 395., 477., 388., 481., 476., 489., 456.,\n",
       "       215., 490., 454., 488., 219., 409., 362., 491., 470., 478.,  50.,\n",
       "       177., 455., 479., 463., 445., 484., 406., 316., 145., 464., 469.,\n",
       "       497., 340., 486.,  23., 471., 457., 482., 498., 199., 311., 472.,\n",
       "       247., 385., 329., 496., 238., 433., 460., 431., 401.,  11., 487.,\n",
       "       483., 218., 415., 336., 143., 386., 400., 191., 485., 161., 358.,\n",
       "       435.])"
      ]
     },
     "execution_count": 4,
     "metadata": {},
     "output_type": "execute_result"
    }
   ],
   "source": [
    "np.random.shuffle(dests[0])\n",
    "dests[0]"
   ]
  },
  {
   "cell_type": "code",
   "execution_count": 5,
   "metadata": {},
   "outputs": [
    {
     "data": {
      "text/plain": [
       "True"
      ]
     },
     "execution_count": 5,
     "metadata": {},
     "output_type": "execute_result"
    }
   ],
   "source": [
    "from numba import njit\n",
    "\n",
    "@njit\n",
    "def knn_sort(dests, k):\n",
    "    sorted_dests = np.sort(dests)\n",
    "    return np.mean(sorted_dests[1:k+1])\n",
    "\n",
    "@njit\n",
    "def knn_ap(dests, k):\n",
    "    idx = np.argpartition(dests, k)\n",
    "    return np.mean(dests[idx[1:k+1]])\n",
    "\n",
    "knn_sort(D[0], 3) == knn_ap(D[0], 3)"
   ]
  },
  {
   "cell_type": "code",
   "execution_count": 16,
   "metadata": {},
   "outputs": [
    {
     "name": "stdout",
     "output_type": "stream",
     "text": [
      "52.4\n"
     ]
    }
   ],
   "source": [
    "print(knn_ap(D[3, dests[0, :15].astype(int)], 5))"
   ]
  },
  {
   "cell_type": "code",
   "execution_count": 6,
   "metadata": {},
   "outputs": [
    {
     "name": "stdout",
     "output_type": "stream",
     "text": [
      "[58 51  0 55 42 38 51 58 42 50 34 38 60 42  6 24 55 46 41 23 51 45 23 26\n",
      " 29 99 60 28 49 43 27 53 48 32 88 40 37 31 46 25 39 27 30 36 34 58 25 21\n",
      " 36 39 56 17  6 28 12 38 26 55 40 50 41 36 10 49 64 27 62 20 50 20 15 39\n",
      " 36 56  8 55 22 30 64 47 18 39 11  5 49 14 46 42 50 56 19 32 21 52 54 55\n",
      " 40 24 54 54 24 59 54 49 38 28 41 37 42 40 56  7 19 48 48 27 54 49 58 37\n",
      " 26 11 12 20 42 54 36 49 96 36 61 16 41 81 33 39 41 32 27 36  9 57 13 51\n",
      " 27 67 56 46 35 48 49 69 40 47 42 41 59 39 21 48 21 55 25 53 30 17 61 25\n",
      " 66 25 41 42 47 10 53 38 49 53 23 14 17 25 43 31 52 65 55 52 36 71 31 41\n",
      " 41 13 55 82 15 43 36 47 24 68 36 45 53 43 19 38 27 60 47 44 38 16 54 37\n",
      " 43 47 27 14 23 30 42 31 49 41 28 45 46 11 47 41  6 99 10 68 41 53 49 38\n",
      " 48 33 43 33 54 41 51 37 46 41 42 30 33 43 54 28 23 65 39 57 23 57 44 21\n",
      " 58 40 56  6 64 28 31 37 36 57 47 65 40 45 38 56 55 22 42 11 30 65 23 43\n",
      " 19 23 36 36 61 43 26 41 14 54 38 46 36 31 50 40 54 54 69 31 18 51 51 23\n",
      " 68 28 28 23 58 45 43 39 41 30 11 42 28 16 39 57 34 38 65 55 13 41 55  7\n",
      " 54 53 40 42 42 34  9 25 51 54 42 56 63 82 17 57 31 37 12 40 42 40 44 57\n",
      " 31 41 59 31 87 63 44 53 57  9 61 39 50 55 58 42 12 58 48 44 71 54 42 41\n",
      " 24 52 28 48 46 54 43 60 41 40 39 36 20 48 51 40 41 71 37 36 42 45 53 16\n",
      " 45 23 21 28 37 64 29 42 72 57 51 54 61 13 57 21 12 42 14 34 63 39 57 12\n",
      " 63 38 18 47 28 29 41 55 41 55 41 41 32 41 51 11 47 44 64 63 51 53 39 44\n",
      " 47 38 40 29 41 46 54 50 30 35 41 54 38 57 40 53 39 41 54 52 49 44 42 11\n",
      " 31 39 69 42 36 23 21 29 69 43 35 53 37 48 42 11 39 34 53 46]\n"
     ]
    }
   ],
   "source": [
    "print(D[2])"
   ]
  },
  {
   "cell_type": "code",
   "execution_count": 16,
   "metadata": {},
   "outputs": [
    {
     "name": "stdout",
     "output_type": "stream",
     "text": [
      "3.83 μs ± 134 ns per loop (mean ± std. dev. of 7 runs, 100,000 loops each)\n"
     ]
    }
   ],
   "source": [
    "%%timeit\n",
    "knn_sort(D[1], 3)"
   ]
  },
  {
   "cell_type": "code",
   "execution_count": 17,
   "metadata": {},
   "outputs": [
    {
     "name": "stdout",
     "output_type": "stream",
     "text": [
      "1.89 μs ± 7.08 ns per loop (mean ± std. dev. of 7 runs, 1,000,000 loops each)\n"
     ]
    }
   ],
   "source": [
    "%%timeit\n",
    "knn_ap(D[1], 3)"
   ]
  }
 ],
 "metadata": {
  "kernelspec": {
   "display_name": ".venv_DQVRP",
   "language": "python",
   "name": "python3"
  },
  "language_info": {
   "codemirror_mode": {
    "name": "ipython",
    "version": 3
   },
   "file_extension": ".py",
   "mimetype": "text/x-python",
   "name": "python",
   "nbconvert_exporter": "python",
   "pygments_lexer": "ipython3",
   "version": "3.12.4"
  }
 },
 "nbformat": 4,
 "nbformat_minor": 2
}
